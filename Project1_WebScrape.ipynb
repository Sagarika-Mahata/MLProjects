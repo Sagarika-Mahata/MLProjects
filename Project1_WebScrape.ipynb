{
  "cells": [
    {
      "cell_type": "markdown",
      "metadata": {},
      "source": [
        "## Installing necessary libraries"
      ]
    },
    {
      "cell_type": "code",
      "execution_count": 1,
      "metadata": {
        "id": "UUkDtFWunnuo"
      },
      "outputs": [],
      "source": [
        "# !pip install requests\n",
        "# !pip install beautifulsoup4\n",
        "# !pip install pandas\n",
        "# !pip install matplotlib"
      ]
    },
    {
      "cell_type": "markdown",
      "metadata": {
        "id": "xu1xnRKsFsFV"
      },
      "source": [
        "## Importing Necessary Libraries"
      ]
    },
    {
      "cell_type": "code",
      "execution_count": 2,
      "metadata": {
        "id": "PCiFQiwSzH_m"
      },
      "outputs": [],
      "source": [
        "import requests\n",
        "from bs4 import BeautifulSoup\n",
        "import pandas as pd\n",
        "import matplotlib as plt"
      ]
    },
    {
      "cell_type": "markdown",
      "metadata": {
        "id": "oVZ8_0gTGGtu"
      },
      "source": [
        "## Setup:"
      ]
    },
    {
      "cell_type": "code",
      "execution_count": 3,
      "metadata": {
        "id": "NNYlt-38zL5G"
      },
      "outputs": [],
      "source": [
        "url = \"https://www.cars24.com/buy-used-cars-pune/?listingSource=ViewAllCars&storeCityId=2423\"\n",
        "headers = {\n",
        "    \"User-Agent\": \"Mozilla/5.0\"\n",
        "}\n",
        "\n",
        "response = requests.get(url, headers=headers)"
      ]
    },
    {
      "cell_type": "code",
      "execution_count": 4,
      "metadata": {
        "colab": {
          "base_uri": "https://localhost:8080/"
        },
        "id": "MVL4MT03zy6J",
        "outputId": "7686fd2a-0388-410d-8785-d9d428194356"
      },
      "outputs": [
        {
          "name": "stdout",
          "output_type": "stream",
          "text": [
            "Successfully fetched the webpage!\n"
          ]
        }
      ],
      "source": [
        "if response.status_code == 200:\n",
        "    print(\"Successfully fetched the webpage!\")\n",
        "    soup = BeautifulSoup(response.content, \"html.parser\")\n",
        "else:\n",
        "    print(f\"Failed to fetch the webpage. Status code: {response.status_code}\")"
      ]
    },
    {
      "cell_type": "markdown",
      "metadata": {},
      "source": [
        "## Collecting the necessary informations:"
      ]
    },
    {
      "cell_type": "code",
      "execution_count": 5,
      "metadata": {
        "colab": {
          "base_uri": "https://localhost:8080/"
        },
        "id": "raRAAczU3JwT",
        "outputId": "a6874474-9c59-4dc1-8ac6-6816f5b599f7"
      },
      "outputs": [
        {
          "name": "stdout",
          "output_type": "stream",
          "text": [
            "Found 20 car listings on the page.\n"
          ]
        }
      ],
      "source": [
        "car_cards = soup.find_all('a', class_='styles_carCardWrapper__sXLIp')\n",
        "\n",
        "print(f\"Found {len(car_cards)} car listings on the page.\")"
      ]
    },
    {
      "cell_type": "markdown",
      "metadata": {},
      "source": [
        "### Creating the Dataset"
      ]
    },
    {
      "cell_type": "code",
      "execution_count": 9,
      "metadata": {
        "id": "qv489mKD-Hwe"
      },
      "outputs": [],
      "source": [
        "all_car_data = []\n",
        "\n",
        "for card in car_cards:\n",
        "    try:\n",
        "        car_name = card.find('span').text.strip()\n",
        "        car_model = card.find('span', class_='sc-czgmHJ kIPFVL').text.strip()\n",
        "        specs = card.find_all('p', class_='sc-czgmHJ ctvwTc')\n",
        "        kms_driven = specs[0].text.strip()\n",
        "        fuel_type = specs[1].text.strip()\n",
        "        transmission = specs[2].text.strip()\n",
        "        location = card.find('p', class_='sc-czgmHJ WaIhv').text.strip()\n",
        "        price = card.find('p', class_='sc-czgmHJ frDqEi').text.strip()\n",
        "\n",
        "        # Store the info in a dictionary\n",
        "        car_info = {\n",
        "            \"Name\": car_name,\n",
        "            \"Model\": car_model,\n",
        "            \"Kilometers Driven\": kms_driven,\n",
        "            \"Fuel Type\": fuel_type,\n",
        "            \"Transmission\": transmission,\n",
        "            \"Location\": location,\n",
        "            \"Price\": price\n",
        "        }\n",
        "        all_car_data.append(car_info)\n",
        "\n",
        "    except Exception as e:\n",
        "        # The safety net is more important than ever when websites change!\n",
        "        # This will tell us if a card has a weird layout we didn't expect.\n",
        "        print(f\"Skipping a card. Error: {e}\")"
      ]
    },
    {
      "cell_type": "code",
      "execution_count": 7,
      "metadata": {
        "colab": {
          "base_uri": "https://localhost:8080/"
        },
        "id": "RxtFf71N_43f",
        "outputId": "f12cf692-c339-4d9c-8a1c-3379d35d80b8"
      },
      "outputs": [
        {
          "name": "stdout",
          "output_type": "stream",
          "text": [
            "[]\n"
          ]
        }
      ],
      "source": [
        "print(all_car_data[:2])"
      ]
    },
    {
      "cell_type": "markdown",
      "metadata": {},
      "source": [
        "## Creating CSV file"
      ]
    },
    {
      "cell_type": "code",
      "execution_count": 8,
      "metadata": {
        "colab": {
          "base_uri": "https://localhost:8080/",
          "height": 397
        },
        "id": "aO8-2i1FAFYI",
        "outputId": "ec214b0f-8e0e-4372-fcbf-0ce1b0bc16d5"
      },
      "outputs": [
        {
          "name": "stdout",
          "output_type": "stream",
          "text": [
            "\n",
            "Successfully saved the data to cars24_listings_updated.csv!\n"
          ]
        },
        {
          "data": {
            "text/html": [
              "<div>\n",
              "<style scoped>\n",
              "    .dataframe tbody tr th:only-of-type {\n",
              "        vertical-align: middle;\n",
              "    }\n",
              "\n",
              "    .dataframe tbody tr th {\n",
              "        vertical-align: top;\n",
              "    }\n",
              "\n",
              "    .dataframe thead th {\n",
              "        text-align: right;\n",
              "    }\n",
              "</style>\n",
              "<table border=\"1\" class=\"dataframe\">\n",
              "  <thead>\n",
              "    <tr style=\"text-align: right;\">\n",
              "      <th></th>\n",
              "    </tr>\n",
              "  </thead>\n",
              "  <tbody>\n",
              "  </tbody>\n",
              "</table>\n",
              "</div>"
            ],
            "text/plain": [
              "Empty DataFrame\n",
              "Columns: []\n",
              "Index: []"
            ]
          },
          "execution_count": 8,
          "metadata": {},
          "output_type": "execute_result"
        }
      ],
      "source": [
        "df = pd.DataFrame(all_car_data)\n",
        "df.to_csv('cars24_listings_updated.csv', index=False)\n",
        "\n",
        "print(\"\\nSuccessfully saved the data to cars24_listings_updated.csv!\")\n",
        "\n",
        "df.head()"
      ]
    }
  ],
  "metadata": {
    "colab": {
      "provenance": []
    },
    "kernelspec": {
      "display_name": "Python 3",
      "language": "python",
      "name": "python3"
    },
    "language_info": {
      "codemirror_mode": {
        "name": "ipython",
        "version": 3
      },
      "file_extension": ".py",
      "mimetype": "text/x-python",
      "name": "python",
      "nbconvert_exporter": "python",
      "pygments_lexer": "ipython3",
      "version": "3.11.9"
    }
  },
  "nbformat": 4,
  "nbformat_minor": 0
}
