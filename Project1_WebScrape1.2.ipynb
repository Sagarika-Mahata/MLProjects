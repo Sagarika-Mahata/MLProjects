{
  "cells": [
    {
      "cell_type": "code",
      "execution_count": 1,
      "metadata": {
        "id": "UUkDtFWunnuo"
      },
      "outputs": [],
      "source": [
        "# Install necessary libraries\n",
        "# !pip install requests\n",
        "# !pip install beautifulsoup4"
      ]
    },
    {
      "cell_type": "markdown",
      "metadata": {
        "id": "xu1xnRKsFsFV"
      },
      "source": [
        "## Importing Necessary Libraries"
      ]
    },
    {
      "cell_type": "code",
      "execution_count": 2,
      "metadata": {
        "id": "PCiFQiwSzH_m"
      },
      "outputs": [],
      "source": [
        "import requests\n",
        "from bs4 import BeautifulSoup\n",
        "import pandas as pd"
      ]
    },
    {
      "cell_type": "markdown",
      "metadata": {
        "id": "oVZ8_0gTGGtu"
      },
      "source": [
        "## Setup:"
      ]
    },
    {
      "cell_type": "code",
      "execution_count": 3,
      "metadata": {
        "id": "NNYlt-38zL5G"
      },
      "outputs": [],
      "source": [
        "url = \"https://www.cars24.com/buy-used-cars-pune/?listingSource=ViewAllCars&storeCityId=2423\"\n",
        "headers = {\n",
        "    \"User-Agent\": \"Mozilla/5.0\"\n",
        "}\n",
        "\n",
        "response = requests.get(url, headers=headers)"
      ]
    },
    {
      "cell_type": "code",
      "execution_count": 4,
      "metadata": {
        "colab": {
          "base_uri": "https://localhost:8080/"
        },
        "id": "MVL4MT03zy6J",
        "outputId": "3cea7030-c0ff-4a01-ea0a-8d90b3b39796"
      },
      "outputs": [
        {
          "name": "stdout",
          "output_type": "stream",
          "text": [
            "Successfully fetched the webpage!\n"
          ]
        }
      ],
      "source": [
        "if response.status_code == 200:\n",
        "    print(\"Successfully fetched the webpage!\")\n",
        "    soup = BeautifulSoup(response.content, \"html.parser\")\n",
        "else:\n",
        "    print(f\"Failed to fetch the webpage. Status code: {response.status_code}\")"
      ]
    },
    {
      "cell_type": "code",
      "execution_count": 5,
      "metadata": {
        "colab": {
          "base_uri": "https://localhost:8080/"
        },
        "id": "raRAAczU3JwT",
        "outputId": "9cb18698-4fb2-47fc-ad97-632dc1b3307c"
      },
      "outputs": [
        {
          "name": "stdout",
          "output_type": "stream",
          "text": [
            "Found 20 car listings on the page.\n"
          ]
        }
      ],
      "source": [
        "car_cards = soup.find_all('a', class_='styles_carCardWrapper__sXLIp')\n",
        "\n",
        "print(f\"Found {len(car_cards)} car listings on the page.\")"
      ]
    },
    {
      "cell_type": "code",
      "execution_count": null,
      "metadata": {
        "id": "qv489mKD-Hwe"
      },
      "outputs": [],
      "source": [
        "all_car_data = []\n",
        "\n",
        "for card in car_cards:\n",
        "    try:\n",
        "        car_name = card.find('span').text.strip()\n",
        "        car_model = card.find('span', class_='sc-braxZu fccwQo').text.strip()\n",
        "        specs = card.find_all('p', class_='sc-braxZu kvfdZL')\n",
        "        kms_driven = specs[0].text.strip()\n",
        "        fuel_type = specs[1].text.strip()\n",
        "        transmission = specs[2].text.strip()\n",
        "        location = card.find('p', class_='sc-braxZu lmmumg').text.strip()\n",
        "        price = card.find('p', class_='sc-braxZu cyPhJl').text.strip()\n",
        "\n",
        "        # Store the info in a dictionary\n",
        "        car_info = {\n",
        "            \"Name\": car_name,\n",
        "            \"Model\": car_model,\n",
        "            \"Kilometers Driven\": kms_driven,\n",
        "            \"Fuel Type\": fuel_type,\n",
        "            \"Transmission\": transmission,\n",
        "            \"Location\": location,\n",
        "            \"Price\": price\n",
        "        }\n",
        "        all_car_data.append(car_info)\n",
        "\n",
        "    except Exception as e:\n",
        "        # The safety net is more important than ever when websites change!\n",
        "        # This will tell us if a card has a weird layout we didn't expect.\n",
        "        print(f\"Skipping a card. Error: {e}\")"
      ]
    },
    {
      "cell_type": "code",
      "execution_count": 7,
      "metadata": {
        "colab": {
          "base_uri": "https://localhost:8080/"
        },
        "id": "RxtFf71N_43f",
        "outputId": "b57848ce-1c6b-497c-bbc4-a561c0f4a136"
      },
      "outputs": [
        {
          "name": "stdout",
          "output_type": "stream",
          "text": [
            "[{'Name': '2022 Hyundai Creta', 'Model': 'EX 1.5 DIESEL', 'Kilometers Driven': '38.98k km', 'Fuel Type': 'Diesel', 'Transmission': 'Manual', 'Location': 'Tathawade, Pune', 'Price': '₹12.55 lakh'}, {'Name': '2013 Hyundai Eon', 'Model': 'ERA +', 'Kilometers Driven': '71.38k km', 'Fuel Type': 'Petrol', 'Transmission': 'Manual', 'Location': 'Tathawade, Pune', 'Price': '₹1.92 lakh'}]\n"
          ]
        }
      ],
      "source": [
        "print(all_car_data[:2])"
      ]
    },
    {
      "cell_type": "code",
      "execution_count": 8,
      "metadata": {
        "colab": {
          "base_uri": "https://localhost:8080/"
        },
        "id": "aO8-2i1FAFYI",
        "outputId": "6c38cad7-c788-4ae2-c8af-0cd96d4ef15a"
      },
      "outputs": [
        {
          "name": "stdout",
          "output_type": "stream",
          "text": [
            "\n",
            "Successfully saved the data to cars24_listings_updated.csv!\n"
          ]
        }
      ],
      "source": [
        "df = pd.DataFrame(all_car_data)\n",
        "df.to_csv('cars24_listings_updated.csv', index=False)\n",
        "\n",
        "print(\"\\nSuccessfully saved the data to cars24_listings_updated.csv!\")\n"
      ]
    },
    {
      "cell_type": "markdown",
      "metadata": {
        "id": "4AOBEZ_3l3Py"
      },
      "source": [
        "## Cleaning the dataset"
      ]
    },
    {
      "cell_type": "code",
      "execution_count": 9,
      "metadata": {
        "colab": {
          "base_uri": "https://localhost:8080/"
        },
        "id": "Sjyz6QmLlzhb",
        "outputId": "13d974e7-d4a8-4406-e2ba-ea8ee477c3f9"
      },
      "outputs": [
        {
          "name": "stdout",
          "output_type": "stream",
          "text": [
            "<class 'pandas.core.frame.DataFrame'>\n",
            "RangeIndex: 20 entries, 0 to 19\n",
            "Data columns (total 7 columns):\n",
            " #   Column             Non-Null Count  Dtype \n",
            "---  ------             --------------  ----- \n",
            " 0   Name               20 non-null     object\n",
            " 1   Model              20 non-null     object\n",
            " 2   Kilometers Driven  20 non-null     object\n",
            " 3   Fuel Type          20 non-null     object\n",
            " 4   Transmission       20 non-null     object\n",
            " 5   Location           20 non-null     object\n",
            " 6   Price              20 non-null     object\n",
            "dtypes: object(7)\n",
            "memory usage: 1.2+ KB\n"
          ]
        }
      ],
      "source": [
        "df.info()"
      ]
    },
    {
      "cell_type": "code",
      "execution_count": 10,
      "metadata": {
        "colab": {
          "base_uri": "https://localhost:8080/",
          "height": 1000
        },
        "id": "hhwGs0Zyl-L0",
        "outputId": "400f0e6c-2473-4d0d-b72a-39f3b3c1213d"
      },
      "outputs": [
        {
          "data": {
            "text/html": [
              "<div>\n",
              "<style scoped>\n",
              "    .dataframe tbody tr th:only-of-type {\n",
              "        vertical-align: middle;\n",
              "    }\n",
              "\n",
              "    .dataframe tbody tr th {\n",
              "        vertical-align: top;\n",
              "    }\n",
              "\n",
              "    .dataframe thead th {\n",
              "        text-align: right;\n",
              "    }\n",
              "</style>\n",
              "<table border=\"1\" class=\"dataframe\">\n",
              "  <thead>\n",
              "    <tr style=\"text-align: right;\">\n",
              "      <th></th>\n",
              "      <th>Name</th>\n",
              "      <th>Model</th>\n",
              "      <th>Kilometers Driven</th>\n",
              "      <th>Fuel Type</th>\n",
              "      <th>Transmission</th>\n",
              "      <th>Location</th>\n",
              "      <th>Price</th>\n",
              "    </tr>\n",
              "  </thead>\n",
              "  <tbody>\n",
              "    <tr>\n",
              "      <th>0</th>\n",
              "      <td>2022 Hyundai Creta</td>\n",
              "      <td>EX 1.5 DIESEL</td>\n",
              "      <td>38.98k km</td>\n",
              "      <td>Diesel</td>\n",
              "      <td>Manual</td>\n",
              "      <td>Tathawade, Pune</td>\n",
              "      <td>₹12.55 lakh</td>\n",
              "    </tr>\n",
              "    <tr>\n",
              "      <th>1</th>\n",
              "      <td>2013 Hyundai Eon</td>\n",
              "      <td>ERA +</td>\n",
              "      <td>71.38k km</td>\n",
              "      <td>Petrol</td>\n",
              "      <td>Manual</td>\n",
              "      <td>Tathawade, Pune</td>\n",
              "      <td>₹1.92 lakh</td>\n",
              "    </tr>\n",
              "    <tr>\n",
              "      <th>2</th>\n",
              "      <td>2017 Renault Kwid</td>\n",
              "      <td>RXT 0.8</td>\n",
              "      <td>44.96k km</td>\n",
              "      <td>Petrol</td>\n",
              "      <td>Manual</td>\n",
              "      <td>Tathawade, Pune</td>\n",
              "      <td>₹2.72 lakh</td>\n",
              "    </tr>\n",
              "    <tr>\n",
              "      <th>3</th>\n",
              "      <td>2022 Honda City</td>\n",
              "      <td>1.5L I-VTEC VX</td>\n",
              "      <td>12.43k km</td>\n",
              "      <td>Petrol</td>\n",
              "      <td>Manual</td>\n",
              "      <td>Amanora Mall apex building, Pune</td>\n",
              "      <td>₹11.54 lakh</td>\n",
              "    </tr>\n",
              "    <tr>\n",
              "      <th>4</th>\n",
              "      <td>2013 Hyundai i10</td>\n",
              "      <td>SPORTZ 1.2</td>\n",
              "      <td>72.95k km</td>\n",
              "      <td>Petrol</td>\n",
              "      <td>Manual</td>\n",
              "      <td>Tathawade, Pune</td>\n",
              "      <td>₹2.61 lakh</td>\n",
              "    </tr>\n",
              "    <tr>\n",
              "      <th>5</th>\n",
              "      <td>2018 Maruti Baleno</td>\n",
              "      <td>ZETA CVT PETROL 1.2</td>\n",
              "      <td>46.69k km</td>\n",
              "      <td>Petrol</td>\n",
              "      <td>Auto</td>\n",
              "      <td>Tathawade, Pune</td>\n",
              "      <td>₹5.45 lakh</td>\n",
              "    </tr>\n",
              "    <tr>\n",
              "      <th>6</th>\n",
              "      <td>2015 Honda City</td>\n",
              "      <td>1.5L I-VTEC VX CVT</td>\n",
              "      <td>65.08k km</td>\n",
              "      <td>Petrol</td>\n",
              "      <td>Auto</td>\n",
              "      <td>Tathawade, Pune</td>\n",
              "      <td>₹5.57 lakh</td>\n",
              "    </tr>\n",
              "    <tr>\n",
              "      <th>7</th>\n",
              "      <td>2015 Maruti Wagon R Stingray</td>\n",
              "      <td>VXI</td>\n",
              "      <td>72.37k km</td>\n",
              "      <td>CNG</td>\n",
              "      <td>Manual</td>\n",
              "      <td>Tathawade, Pune</td>\n",
              "      <td>₹3.66 lakh</td>\n",
              "    </tr>\n",
              "    <tr>\n",
              "      <th>8</th>\n",
              "      <td>2018 Maruti Ciaz</td>\n",
              "      <td>ALPHA 1.4 PETROL</td>\n",
              "      <td>30.68k km</td>\n",
              "      <td>Petrol</td>\n",
              "      <td>Manual</td>\n",
              "      <td>Amanora Mall apex building, Pune</td>\n",
              "      <td>₹6.26 lakh</td>\n",
              "    </tr>\n",
              "    <tr>\n",
              "      <th>9</th>\n",
              "      <td>2012 Honda City</td>\n",
              "      <td>1.5L I-VTEC V AT</td>\n",
              "      <td>95.71k km</td>\n",
              "      <td>Petrol</td>\n",
              "      <td>Auto</td>\n",
              "      <td>Tathawade, Pune</td>\n",
              "      <td>₹3.53 lakh</td>\n",
              "    </tr>\n",
              "    <tr>\n",
              "      <th>10</th>\n",
              "      <td>2021 Volkswagen Polo</td>\n",
              "      <td>HIGHLINE PLUS 1.0L TSI</td>\n",
              "      <td>35.79k km</td>\n",
              "      <td>Petrol</td>\n",
              "      <td>Manual</td>\n",
              "      <td>Tathawade, Pune</td>\n",
              "      <td>₹6.72 lakh</td>\n",
              "    </tr>\n",
              "    <tr>\n",
              "      <th>11</th>\n",
              "      <td>2019 Renault Duster</td>\n",
              "      <td>RXS CVT</td>\n",
              "      <td>49.99k km</td>\n",
              "      <td>CNG</td>\n",
              "      <td>Auto</td>\n",
              "      <td>Tathawade, Pune</td>\n",
              "      <td>₹7.18 lakh</td>\n",
              "    </tr>\n",
              "    <tr>\n",
              "      <th>12</th>\n",
              "      <td>2016 Hyundai Grand i10</td>\n",
              "      <td>ASTA (O) AT 1.2 KAPPA VTVT</td>\n",
              "      <td>19.73k km</td>\n",
              "      <td>Petrol</td>\n",
              "      <td>Auto</td>\n",
              "      <td>Tathawade, Pune</td>\n",
              "      <td>₹5.40 lakh</td>\n",
              "    </tr>\n",
              "    <tr>\n",
              "      <th>13</th>\n",
              "      <td>2015 Honda City</td>\n",
              "      <td>1.5L I-VTEC SV</td>\n",
              "      <td>89.26k km</td>\n",
              "      <td>Petrol</td>\n",
              "      <td>Manual</td>\n",
              "      <td>Tathawade, Pune</td>\n",
              "      <td>₹4.55 lakh</td>\n",
              "    </tr>\n",
              "    <tr>\n",
              "      <th>14</th>\n",
              "      <td>2021 Maruti Alto</td>\n",
              "      <td>LXI OPT CNG</td>\n",
              "      <td>53.20k km</td>\n",
              "      <td>CNG</td>\n",
              "      <td>Manual</td>\n",
              "      <td>Tathawade, Pune</td>\n",
              "      <td>₹3.48 lakh</td>\n",
              "    </tr>\n",
              "    <tr>\n",
              "      <th>15</th>\n",
              "      <td>2016 Maruti Wagon R 1.0</td>\n",
              "      <td>LXI</td>\n",
              "      <td>79.57k km</td>\n",
              "      <td>CNG</td>\n",
              "      <td>Manual</td>\n",
              "      <td>Tathawade, Pune</td>\n",
              "      <td>₹3.42 lakh</td>\n",
              "    </tr>\n",
              "    <tr>\n",
              "      <th>16</th>\n",
              "      <td>2020 Renault Kwid</td>\n",
              "      <td>CLIMBER 1.0 (O)</td>\n",
              "      <td>10.22k km</td>\n",
              "      <td>Petrol</td>\n",
              "      <td>Manual</td>\n",
              "      <td>Tathawade, Pune</td>\n",
              "      <td>₹3.69 lakh</td>\n",
              "    </tr>\n",
              "    <tr>\n",
              "      <th>17</th>\n",
              "      <td>2017 Maruti Swift</td>\n",
              "      <td>VXI</td>\n",
              "      <td>34.29k km</td>\n",
              "      <td>Petrol</td>\n",
              "      <td>Manual</td>\n",
              "      <td>Tathawade, Pune</td>\n",
              "      <td>₹4.83 lakh</td>\n",
              "    </tr>\n",
              "    <tr>\n",
              "      <th>18</th>\n",
              "      <td>2019 KIA SELTOS</td>\n",
              "      <td>HTK PLUS AT 1.5 DIESEL</td>\n",
              "      <td>73.43k km</td>\n",
              "      <td>Diesel</td>\n",
              "      <td>Auto</td>\n",
              "      <td>Tathawade, Pune</td>\n",
              "      <td>₹11.59 lakh</td>\n",
              "    </tr>\n",
              "    <tr>\n",
              "      <th>19</th>\n",
              "      <td>2015 Renault Kwid</td>\n",
              "      <td>RXL</td>\n",
              "      <td>18.14k km</td>\n",
              "      <td>Petrol</td>\n",
              "      <td>Manual</td>\n",
              "      <td>Tathawade, Pune</td>\n",
              "      <td>₹1.98 lakh</td>\n",
              "    </tr>\n",
              "  </tbody>\n",
              "</table>\n",
              "</div>"
            ],
            "text/plain": [
              "                            Name                       Model  \\\n",
              "0             2022 Hyundai Creta               EX 1.5 DIESEL   \n",
              "1               2013 Hyundai Eon                       ERA +   \n",
              "2              2017 Renault Kwid                     RXT 0.8   \n",
              "3                2022 Honda City              1.5L I-VTEC VX   \n",
              "4               2013 Hyundai i10                  SPORTZ 1.2   \n",
              "5             2018 Maruti Baleno         ZETA CVT PETROL 1.2   \n",
              "6                2015 Honda City          1.5L I-VTEC VX CVT   \n",
              "7   2015 Maruti Wagon R Stingray                         VXI   \n",
              "8               2018 Maruti Ciaz            ALPHA 1.4 PETROL   \n",
              "9                2012 Honda City            1.5L I-VTEC V AT   \n",
              "10          2021 Volkswagen Polo      HIGHLINE PLUS 1.0L TSI   \n",
              "11           2019 Renault Duster                     RXS CVT   \n",
              "12        2016 Hyundai Grand i10  ASTA (O) AT 1.2 KAPPA VTVT   \n",
              "13               2015 Honda City              1.5L I-VTEC SV   \n",
              "14              2021 Maruti Alto                 LXI OPT CNG   \n",
              "15       2016 Maruti Wagon R 1.0                         LXI   \n",
              "16             2020 Renault Kwid             CLIMBER 1.0 (O)   \n",
              "17             2017 Maruti Swift                         VXI   \n",
              "18               2019 KIA SELTOS      HTK PLUS AT 1.5 DIESEL   \n",
              "19             2015 Renault Kwid                         RXL   \n",
              "\n",
              "   Kilometers Driven Fuel Type Transmission                          Location  \\\n",
              "0          38.98k km    Diesel       Manual                   Tathawade, Pune   \n",
              "1          71.38k km    Petrol       Manual                   Tathawade, Pune   \n",
              "2          44.96k km    Petrol       Manual                   Tathawade, Pune   \n",
              "3          12.43k km    Petrol       Manual  Amanora Mall apex building, Pune   \n",
              "4          72.95k km    Petrol       Manual                   Tathawade, Pune   \n",
              "5          46.69k km    Petrol         Auto                   Tathawade, Pune   \n",
              "6          65.08k km    Petrol         Auto                   Tathawade, Pune   \n",
              "7          72.37k km       CNG       Manual                   Tathawade, Pune   \n",
              "8          30.68k km    Petrol       Manual  Amanora Mall apex building, Pune   \n",
              "9          95.71k km    Petrol         Auto                   Tathawade, Pune   \n",
              "10         35.79k km    Petrol       Manual                   Tathawade, Pune   \n",
              "11         49.99k km       CNG         Auto                   Tathawade, Pune   \n",
              "12         19.73k km    Petrol         Auto                   Tathawade, Pune   \n",
              "13         89.26k km    Petrol       Manual                   Tathawade, Pune   \n",
              "14         53.20k km       CNG       Manual                   Tathawade, Pune   \n",
              "15         79.57k km       CNG       Manual                   Tathawade, Pune   \n",
              "16         10.22k km    Petrol       Manual                   Tathawade, Pune   \n",
              "17         34.29k km    Petrol       Manual                   Tathawade, Pune   \n",
              "18         73.43k km    Diesel         Auto                   Tathawade, Pune   \n",
              "19         18.14k km    Petrol       Manual                   Tathawade, Pune   \n",
              "\n",
              "          Price  \n",
              "0   ₹12.55 lakh  \n",
              "1    ₹1.92 lakh  \n",
              "2    ₹2.72 lakh  \n",
              "3   ₹11.54 lakh  \n",
              "4    ₹2.61 lakh  \n",
              "5    ₹5.45 lakh  \n",
              "6    ₹5.57 lakh  \n",
              "7    ₹3.66 lakh  \n",
              "8    ₹6.26 lakh  \n",
              "9    ₹3.53 lakh  \n",
              "10   ₹6.72 lakh  \n",
              "11   ₹7.18 lakh  \n",
              "12   ₹5.40 lakh  \n",
              "13   ₹4.55 lakh  \n",
              "14   ₹3.48 lakh  \n",
              "15   ₹3.42 lakh  \n",
              "16   ₹3.69 lakh  \n",
              "17   ₹4.83 lakh  \n",
              "18  ₹11.59 lakh  \n",
              "19   ₹1.98 lakh  "
            ]
          },
          "execution_count": 10,
          "metadata": {},
          "output_type": "execute_result"
        }
      ],
      "source": [
        "df.head(20)"
      ]
    },
    {
      "cell_type": "markdown",
      "metadata": {
        "id": "rm6Rg5T_mI32"
      },
      "source": [
        "There is no null value in the dataset but we can see symbols in the 'Price' column."
      ]
    },
    {
      "cell_type": "code",
      "execution_count": 11,
      "metadata": {
        "id": "VrQzTocrmFUc"
      },
      "outputs": [],
      "source": [
        "df['Price_Clean'] = df['Price'].str.replace('₹', '').str.replace('lakh', '').str.strip().astype(float) * 100000"
      ]
    },
    {
      "cell_type": "markdown",
      "metadata": {
        "id": "Lhihnttu1A15"
      },
      "source": [
        "'Kilometers Driven' column is needed to be cleaned as well."
      ]
    },
    {
      "cell_type": "code",
      "execution_count": 12,
      "metadata": {
        "colab": {
          "base_uri": "https://localhost:8080/",
          "height": 362
        },
        "id": "hBDHw1YpoPp1",
        "outputId": "014a439a-7e6e-48c5-8fbc-a899245ef3ce"
      },
      "outputs": [
        {
          "data": {
            "text/html": [
              "<div>\n",
              "<style scoped>\n",
              "    .dataframe tbody tr th:only-of-type {\n",
              "        vertical-align: middle;\n",
              "    }\n",
              "\n",
              "    .dataframe tbody tr th {\n",
              "        vertical-align: top;\n",
              "    }\n",
              "\n",
              "    .dataframe thead th {\n",
              "        text-align: right;\n",
              "    }\n",
              "</style>\n",
              "<table border=\"1\" class=\"dataframe\">\n",
              "  <thead>\n",
              "    <tr style=\"text-align: right;\">\n",
              "      <th></th>\n",
              "      <th>Name</th>\n",
              "      <th>Model</th>\n",
              "      <th>Kilometers Driven</th>\n",
              "      <th>Fuel Type</th>\n",
              "      <th>Transmission</th>\n",
              "      <th>Location</th>\n",
              "      <th>Price</th>\n",
              "      <th>Price_Clean</th>\n",
              "      <th>km_driven_clean</th>\n",
              "    </tr>\n",
              "  </thead>\n",
              "  <tbody>\n",
              "    <tr>\n",
              "      <th>0</th>\n",
              "      <td>2022 Hyundai Creta</td>\n",
              "      <td>EX 1.5 DIESEL</td>\n",
              "      <td>38.98k km</td>\n",
              "      <td>Diesel</td>\n",
              "      <td>Manual</td>\n",
              "      <td>Tathawade, Pune</td>\n",
              "      <td>₹12.55 lakh</td>\n",
              "      <td>1255000.0</td>\n",
              "      <td>38980</td>\n",
              "    </tr>\n",
              "    <tr>\n",
              "      <th>1</th>\n",
              "      <td>2013 Hyundai Eon</td>\n",
              "      <td>ERA +</td>\n",
              "      <td>71.38k km</td>\n",
              "      <td>Petrol</td>\n",
              "      <td>Manual</td>\n",
              "      <td>Tathawade, Pune</td>\n",
              "      <td>₹1.92 lakh</td>\n",
              "      <td>192000.0</td>\n",
              "      <td>71380</td>\n",
              "    </tr>\n",
              "    <tr>\n",
              "      <th>2</th>\n",
              "      <td>2017 Renault Kwid</td>\n",
              "      <td>RXT 0.8</td>\n",
              "      <td>44.96k km</td>\n",
              "      <td>Petrol</td>\n",
              "      <td>Manual</td>\n",
              "      <td>Tathawade, Pune</td>\n",
              "      <td>₹2.72 lakh</td>\n",
              "      <td>272000.0</td>\n",
              "      <td>44960</td>\n",
              "    </tr>\n",
              "    <tr>\n",
              "      <th>3</th>\n",
              "      <td>2022 Honda City</td>\n",
              "      <td>1.5L I-VTEC VX</td>\n",
              "      <td>12.43k km</td>\n",
              "      <td>Petrol</td>\n",
              "      <td>Manual</td>\n",
              "      <td>Amanora Mall apex building, Pune</td>\n",
              "      <td>₹11.54 lakh</td>\n",
              "      <td>1154000.0</td>\n",
              "      <td>12430</td>\n",
              "    </tr>\n",
              "    <tr>\n",
              "      <th>4</th>\n",
              "      <td>2013 Hyundai i10</td>\n",
              "      <td>SPORTZ 1.2</td>\n",
              "      <td>72.95k km</td>\n",
              "      <td>Petrol</td>\n",
              "      <td>Manual</td>\n",
              "      <td>Tathawade, Pune</td>\n",
              "      <td>₹2.61 lakh</td>\n",
              "      <td>261000.0</td>\n",
              "      <td>72950</td>\n",
              "    </tr>\n",
              "  </tbody>\n",
              "</table>\n",
              "</div>"
            ],
            "text/plain": [
              "                 Name           Model Kilometers Driven Fuel Type  \\\n",
              "0  2022 Hyundai Creta   EX 1.5 DIESEL         38.98k km    Diesel   \n",
              "1    2013 Hyundai Eon           ERA +         71.38k km    Petrol   \n",
              "2   2017 Renault Kwid         RXT 0.8         44.96k km    Petrol   \n",
              "3     2022 Honda City  1.5L I-VTEC VX         12.43k km    Petrol   \n",
              "4    2013 Hyundai i10      SPORTZ 1.2         72.95k km    Petrol   \n",
              "\n",
              "  Transmission                          Location        Price  Price_Clean  \\\n",
              "0       Manual                   Tathawade, Pune  ₹12.55 lakh    1255000.0   \n",
              "1       Manual                   Tathawade, Pune   ₹1.92 lakh     192000.0   \n",
              "2       Manual                   Tathawade, Pune   ₹2.72 lakh     272000.0   \n",
              "3       Manual  Amanora Mall apex building, Pune  ₹11.54 lakh    1154000.0   \n",
              "4       Manual                   Tathawade, Pune   ₹2.61 lakh     261000.0   \n",
              "\n",
              "   km_driven_clean  \n",
              "0            38980  \n",
              "1            71380  \n",
              "2            44960  \n",
              "3            12430  \n",
              "4            72950  "
            ]
          },
          "execution_count": 12,
          "metadata": {},
          "output_type": "execute_result"
        }
      ],
      "source": [
        "def clean_kilometers(km_str):\n",
        "    km_str = km_str.replace('km', '').strip()\n",
        "    if 'k' in km_str.lower():\n",
        "        return int(float(km_str.lower().replace('k', '').strip()) * 1000)\n",
        "    elif 'l' in km_str.lower():\n",
        "        return int(float(km_str.lower().replace('l', '').strip()) * 100000) # Assuming 'lakh' as 100,000\n",
        "    else:\n",
        "        try:\n",
        "            return int(float(km_str))\n",
        "        except ValueError:\n",
        "            return None # Handle cases that cannot be converted\n",
        "\n",
        "df['km_driven_clean'] = df['Kilometers Driven'].apply(clean_kilometers)\n",
        "df.head()\n"
      ]
    },
    {
      "cell_type": "code",
      "execution_count": 13,
      "metadata": {
        "colab": {
          "base_uri": "https://localhost:8080/",
          "height": 310
        },
        "id": "3oVJ5tzZsiSX",
        "outputId": "8b38f249-3b86-4419-de11-0c87df1b3f6d"
      },
      "outputs": [
        {
          "data": {
            "text/html": [
              "<div>\n",
              "<style scoped>\n",
              "    .dataframe tbody tr th:only-of-type {\n",
              "        vertical-align: middle;\n",
              "    }\n",
              "\n",
              "    .dataframe tbody tr th {\n",
              "        vertical-align: top;\n",
              "    }\n",
              "\n",
              "    .dataframe thead th {\n",
              "        text-align: right;\n",
              "    }\n",
              "</style>\n",
              "<table border=\"1\" class=\"dataframe\">\n",
              "  <thead>\n",
              "    <tr style=\"text-align: right;\">\n",
              "      <th></th>\n",
              "      <th>Name</th>\n",
              "      <th>Model</th>\n",
              "      <th>Fuel Type</th>\n",
              "      <th>Transmission</th>\n",
              "      <th>Location</th>\n",
              "      <th>Price_Clean</th>\n",
              "      <th>km_driven_clean</th>\n",
              "    </tr>\n",
              "  </thead>\n",
              "  <tbody>\n",
              "    <tr>\n",
              "      <th>0</th>\n",
              "      <td>2022 Hyundai Creta</td>\n",
              "      <td>EX 1.5 DIESEL</td>\n",
              "      <td>Diesel</td>\n",
              "      <td>Manual</td>\n",
              "      <td>Tathawade, Pune</td>\n",
              "      <td>1255000.0</td>\n",
              "      <td>38980</td>\n",
              "    </tr>\n",
              "    <tr>\n",
              "      <th>1</th>\n",
              "      <td>2013 Hyundai Eon</td>\n",
              "      <td>ERA +</td>\n",
              "      <td>Petrol</td>\n",
              "      <td>Manual</td>\n",
              "      <td>Tathawade, Pune</td>\n",
              "      <td>192000.0</td>\n",
              "      <td>71380</td>\n",
              "    </tr>\n",
              "    <tr>\n",
              "      <th>2</th>\n",
              "      <td>2017 Renault Kwid</td>\n",
              "      <td>RXT 0.8</td>\n",
              "      <td>Petrol</td>\n",
              "      <td>Manual</td>\n",
              "      <td>Tathawade, Pune</td>\n",
              "      <td>272000.0</td>\n",
              "      <td>44960</td>\n",
              "    </tr>\n",
              "    <tr>\n",
              "      <th>3</th>\n",
              "      <td>2022 Honda City</td>\n",
              "      <td>1.5L I-VTEC VX</td>\n",
              "      <td>Petrol</td>\n",
              "      <td>Manual</td>\n",
              "      <td>Amanora Mall apex building, Pune</td>\n",
              "      <td>1154000.0</td>\n",
              "      <td>12430</td>\n",
              "    </tr>\n",
              "    <tr>\n",
              "      <th>4</th>\n",
              "      <td>2013 Hyundai i10</td>\n",
              "      <td>SPORTZ 1.2</td>\n",
              "      <td>Petrol</td>\n",
              "      <td>Manual</td>\n",
              "      <td>Tathawade, Pune</td>\n",
              "      <td>261000.0</td>\n",
              "      <td>72950</td>\n",
              "    </tr>\n",
              "  </tbody>\n",
              "</table>\n",
              "</div>"
            ],
            "text/plain": [
              "                 Name           Model Fuel Type Transmission  \\\n",
              "0  2022 Hyundai Creta   EX 1.5 DIESEL    Diesel       Manual   \n",
              "1    2013 Hyundai Eon           ERA +    Petrol       Manual   \n",
              "2   2017 Renault Kwid         RXT 0.8    Petrol       Manual   \n",
              "3     2022 Honda City  1.5L I-VTEC VX    Petrol       Manual   \n",
              "4    2013 Hyundai i10      SPORTZ 1.2    Petrol       Manual   \n",
              "\n",
              "                           Location  Price_Clean  km_driven_clean  \n",
              "0                   Tathawade, Pune    1255000.0            38980  \n",
              "1                   Tathawade, Pune     192000.0            71380  \n",
              "2                   Tathawade, Pune     272000.0            44960  \n",
              "3  Amanora Mall apex building, Pune    1154000.0            12430  \n",
              "4                   Tathawade, Pune     261000.0            72950  "
            ]
          },
          "execution_count": 13,
          "metadata": {},
          "output_type": "execute_result"
        }
      ],
      "source": [
        "df.drop(columns=['Price', 'Kilometers Driven'], inplace=True)\n",
        "df.head()"
      ]
    },
    {
      "cell_type": "markdown",
      "metadata": {
        "id": "n_hp0Xr4s8l2"
      },
      "source": [
        "## Feature Engineering"
      ]
    },
    {
      "cell_type": "code",
      "execution_count": 14,
      "metadata": {
        "colab": {
          "base_uri": "https://localhost:8080/",
          "height": 310
        },
        "id": "A1YK6cuUs7sf",
        "outputId": "7cc1b499-edc7-4053-b354-62e8862f34f3"
      },
      "outputs": [
        {
          "data": {
            "text/html": [
              "<div>\n",
              "<style scoped>\n",
              "    .dataframe tbody tr th:only-of-type {\n",
              "        vertical-align: middle;\n",
              "    }\n",
              "\n",
              "    .dataframe tbody tr th {\n",
              "        vertical-align: top;\n",
              "    }\n",
              "\n",
              "    .dataframe thead th {\n",
              "        text-align: right;\n",
              "    }\n",
              "</style>\n",
              "<table border=\"1\" class=\"dataframe\">\n",
              "  <thead>\n",
              "    <tr style=\"text-align: right;\">\n",
              "      <th></th>\n",
              "      <th>Name</th>\n",
              "      <th>Model</th>\n",
              "      <th>Fuel Type</th>\n",
              "      <th>Transmission</th>\n",
              "      <th>Location</th>\n",
              "      <th>Price_Clean</th>\n",
              "      <th>km_driven_clean</th>\n",
              "      <th>Year</th>\n",
              "      <th>Company</th>\n",
              "    </tr>\n",
              "  </thead>\n",
              "  <tbody>\n",
              "    <tr>\n",
              "      <th>0</th>\n",
              "      <td>2022 Hyundai Creta</td>\n",
              "      <td>EX 1.5 DIESEL</td>\n",
              "      <td>Diesel</td>\n",
              "      <td>Manual</td>\n",
              "      <td>Tathawade, Pune</td>\n",
              "      <td>1255000.0</td>\n",
              "      <td>38980</td>\n",
              "      <td>2022</td>\n",
              "      <td>Hyundai</td>\n",
              "    </tr>\n",
              "    <tr>\n",
              "      <th>1</th>\n",
              "      <td>2013 Hyundai Eon</td>\n",
              "      <td>ERA +</td>\n",
              "      <td>Petrol</td>\n",
              "      <td>Manual</td>\n",
              "      <td>Tathawade, Pune</td>\n",
              "      <td>192000.0</td>\n",
              "      <td>71380</td>\n",
              "      <td>2013</td>\n",
              "      <td>Hyundai</td>\n",
              "    </tr>\n",
              "    <tr>\n",
              "      <th>2</th>\n",
              "      <td>2017 Renault Kwid</td>\n",
              "      <td>RXT 0.8</td>\n",
              "      <td>Petrol</td>\n",
              "      <td>Manual</td>\n",
              "      <td>Tathawade, Pune</td>\n",
              "      <td>272000.0</td>\n",
              "      <td>44960</td>\n",
              "      <td>2017</td>\n",
              "      <td>Renault</td>\n",
              "    </tr>\n",
              "    <tr>\n",
              "      <th>3</th>\n",
              "      <td>2022 Honda City</td>\n",
              "      <td>1.5L I-VTEC VX</td>\n",
              "      <td>Petrol</td>\n",
              "      <td>Manual</td>\n",
              "      <td>Amanora Mall apex building, Pune</td>\n",
              "      <td>1154000.0</td>\n",
              "      <td>12430</td>\n",
              "      <td>2022</td>\n",
              "      <td>Honda</td>\n",
              "    </tr>\n",
              "    <tr>\n",
              "      <th>4</th>\n",
              "      <td>2013 Hyundai i10</td>\n",
              "      <td>SPORTZ 1.2</td>\n",
              "      <td>Petrol</td>\n",
              "      <td>Manual</td>\n",
              "      <td>Tathawade, Pune</td>\n",
              "      <td>261000.0</td>\n",
              "      <td>72950</td>\n",
              "      <td>2013</td>\n",
              "      <td>Hyundai</td>\n",
              "    </tr>\n",
              "  </tbody>\n",
              "</table>\n",
              "</div>"
            ],
            "text/plain": [
              "                 Name           Model Fuel Type Transmission  \\\n",
              "0  2022 Hyundai Creta   EX 1.5 DIESEL    Diesel       Manual   \n",
              "1    2013 Hyundai Eon           ERA +    Petrol       Manual   \n",
              "2   2017 Renault Kwid         RXT 0.8    Petrol       Manual   \n",
              "3     2022 Honda City  1.5L I-VTEC VX    Petrol       Manual   \n",
              "4    2013 Hyundai i10      SPORTZ 1.2    Petrol       Manual   \n",
              "\n",
              "                           Location  Price_Clean  km_driven_clean  Year  \\\n",
              "0                   Tathawade, Pune    1255000.0            38980  2022   \n",
              "1                   Tathawade, Pune     192000.0            71380  2013   \n",
              "2                   Tathawade, Pune     272000.0            44960  2017   \n",
              "3  Amanora Mall apex building, Pune    1154000.0            12430  2022   \n",
              "4                   Tathawade, Pune     261000.0            72950  2013   \n",
              "\n",
              "   Company  \n",
              "0  Hyundai  \n",
              "1  Hyundai  \n",
              "2  Renault  \n",
              "3    Honda  \n",
              "4  Hyundai  "
            ]
          },
          "execution_count": 14,
          "metadata": {},
          "output_type": "execute_result"
        }
      ],
      "source": [
        "df['Year']= df['Name'].str.slice(0,4).astype(int)\n",
        "df['Company']= df['Name'].str.split().str[1]\n",
        "df.head()"
      ]
    },
    {
      "cell_type": "code",
      "execution_count": 15,
      "metadata": {
        "colab": {
          "base_uri": "https://localhost:8080/",
          "height": 310
        },
        "id": "HMrj3bq8y7R3",
        "outputId": "fcb897a5-2a5a-4b6d-f5d9-5eae36f91775"
      },
      "outputs": [
        {
          "data": {
            "text/html": [
              "<div>\n",
              "<style scoped>\n",
              "    .dataframe tbody tr th:only-of-type {\n",
              "        vertical-align: middle;\n",
              "    }\n",
              "\n",
              "    .dataframe tbody tr th {\n",
              "        vertical-align: top;\n",
              "    }\n",
              "\n",
              "    .dataframe thead th {\n",
              "        text-align: right;\n",
              "    }\n",
              "</style>\n",
              "<table border=\"1\" class=\"dataframe\">\n",
              "  <thead>\n",
              "    <tr style=\"text-align: right;\">\n",
              "      <th></th>\n",
              "      <th>Car_Name</th>\n",
              "      <th>Model</th>\n",
              "      <th>Fuel Type</th>\n",
              "      <th>Transmission</th>\n",
              "      <th>Location</th>\n",
              "      <th>Price_Clean</th>\n",
              "      <th>km_driven_clean</th>\n",
              "      <th>Year</th>\n",
              "      <th>Company</th>\n",
              "    </tr>\n",
              "  </thead>\n",
              "  <tbody>\n",
              "    <tr>\n",
              "      <th>0</th>\n",
              "      <td>Hyundai Creta</td>\n",
              "      <td>EX 1.5 DIESEL</td>\n",
              "      <td>Diesel</td>\n",
              "      <td>Manual</td>\n",
              "      <td>Tathawade, Pune</td>\n",
              "      <td>1255000.0</td>\n",
              "      <td>38980</td>\n",
              "      <td>2022</td>\n",
              "      <td>Hyundai</td>\n",
              "    </tr>\n",
              "    <tr>\n",
              "      <th>1</th>\n",
              "      <td>Hyundai Eon</td>\n",
              "      <td>ERA +</td>\n",
              "      <td>Petrol</td>\n",
              "      <td>Manual</td>\n",
              "      <td>Tathawade, Pune</td>\n",
              "      <td>192000.0</td>\n",
              "      <td>71380</td>\n",
              "      <td>2013</td>\n",
              "      <td>Hyundai</td>\n",
              "    </tr>\n",
              "    <tr>\n",
              "      <th>2</th>\n",
              "      <td>Renault Kwid</td>\n",
              "      <td>RXT 0.8</td>\n",
              "      <td>Petrol</td>\n",
              "      <td>Manual</td>\n",
              "      <td>Tathawade, Pune</td>\n",
              "      <td>272000.0</td>\n",
              "      <td>44960</td>\n",
              "      <td>2017</td>\n",
              "      <td>Renault</td>\n",
              "    </tr>\n",
              "    <tr>\n",
              "      <th>3</th>\n",
              "      <td>Honda City</td>\n",
              "      <td>1.5L I-VTEC VX</td>\n",
              "      <td>Petrol</td>\n",
              "      <td>Manual</td>\n",
              "      <td>Amanora Mall apex building, Pune</td>\n",
              "      <td>1154000.0</td>\n",
              "      <td>12430</td>\n",
              "      <td>2022</td>\n",
              "      <td>Honda</td>\n",
              "    </tr>\n",
              "    <tr>\n",
              "      <th>4</th>\n",
              "      <td>Hyundai i10</td>\n",
              "      <td>SPORTZ 1.2</td>\n",
              "      <td>Petrol</td>\n",
              "      <td>Manual</td>\n",
              "      <td>Tathawade, Pune</td>\n",
              "      <td>261000.0</td>\n",
              "      <td>72950</td>\n",
              "      <td>2013</td>\n",
              "      <td>Hyundai</td>\n",
              "    </tr>\n",
              "  </tbody>\n",
              "</table>\n",
              "</div>"
            ],
            "text/plain": [
              "        Car_Name           Model Fuel Type Transmission  \\\n",
              "0  Hyundai Creta   EX 1.5 DIESEL    Diesel       Manual   \n",
              "1    Hyundai Eon           ERA +    Petrol       Manual   \n",
              "2   Renault Kwid         RXT 0.8    Petrol       Manual   \n",
              "3     Honda City  1.5L I-VTEC VX    Petrol       Manual   \n",
              "4    Hyundai i10      SPORTZ 1.2    Petrol       Manual   \n",
              "\n",
              "                           Location  Price_Clean  km_driven_clean  Year  \\\n",
              "0                   Tathawade, Pune    1255000.0            38980  2022   \n",
              "1                   Tathawade, Pune     192000.0            71380  2013   \n",
              "2                   Tathawade, Pune     272000.0            44960  2017   \n",
              "3  Amanora Mall apex building, Pune    1154000.0            12430  2022   \n",
              "4                   Tathawade, Pune     261000.0            72950  2013   \n",
              "\n",
              "   Company  \n",
              "0  Hyundai  \n",
              "1  Hyundai  \n",
              "2  Renault  \n",
              "3    Honda  \n",
              "4  Hyundai  "
            ]
          },
          "execution_count": 15,
          "metadata": {},
          "output_type": "execute_result"
        }
      ],
      "source": [
        "df['Name'] = df['Name'].str[5:].str.strip()\n",
        "df.rename(columns={'Name': 'Car_Name'}, inplace=True)\n",
        "df.head()"
      ]
    },
    {
      "cell_type": "markdown",
      "metadata": {
        "id": "ZcFuTQ7a10RV"
      },
      "source": [
        "## Exploratory Data Analysis"
      ]
    },
    {
      "cell_type": "code",
      "execution_count": 16,
      "metadata": {
        "colab": {
          "base_uri": "https://localhost:8080/"
        },
        "id": "YFjbOyPS17SC",
        "outputId": "0eaa66da-3608-4688-f94e-dfe6cb44920a"
      },
      "outputs": [
        {
          "name": "stdout",
          "output_type": "stream",
          "text": [
            "Average Price: ₹543,250.00\n",
            "Cheapest Car Name: Hyundai Eon (Price: ₹192,000.00)\n",
            "Most Expensive Car Name: Hyundai Creta (Price: ₹1,255,000.00)\n"
          ]
        }
      ],
      "source": [
        "average_price = df['Price_Clean'].mean()\n",
        "cheapest_car_index = df['Price_Clean'].idxmin()\n",
        "most_expensive_car_index = df['Price_Clean'].idxmax()\n",
        "\n",
        "\n",
        "cheapest_car_name = df.loc[cheapest_car_index, 'Car_Name']\n",
        "most_expensive_car_name = df.loc[most_expensive_car_index, 'Car_Name']\n",
        "\n",
        "print(f\"Average Price: ₹{average_price:,.2f}\")\n",
        "print(f\"Cheapest Car Name: {cheapest_car_name} (Price: ₹{df.loc[cheapest_car_index, 'Price_Clean']:,.2f})\")\n",
        "print(f\"Most Expensive Car Name: {most_expensive_car_name} (Price: ₹{df.loc[most_expensive_car_index, 'Price_Clean']:,.2f})\")"
      ]
    },
    {
      "cell_type": "code",
      "execution_count": 17,
      "metadata": {
        "colab": {
          "base_uri": "https://localhost:8080/",
          "height": 627
        },
        "id": "rTwHICDf5wWA",
        "outputId": "74ecda12-7e61-4cf8-b334-e3642e76f21b"
      },
      "outputs": [
        {
          "data": {
            "image/png": "[encoded data removed]",
            "text/plain": [
              "<Figure size 1200x600 with 1 Axes>"
            ]
          },
          "metadata": {},
          "output_type": "display_data"
        }
      ],
      "source": [
        "import matplotlib.pyplot as plt\n",
        "# Analyze the frequency of each company\n",
        "company_counts = df['Company'].value_counts()\n",
        "\n",
        "# Plot the bar chart\n",
        "plt.figure(figsize=(12, 6))\n",
        "company_counts.plot(kind='bar')\n",
        "plt.title('Most Appeared Car Companies')\n",
        "plt.xlabel('Company')\n",
        "plt.ylabel('Number of Listings')\n",
        "plt.xticks(rotation=45, ha='right')\n",
        "plt.tight_layout()\n",
        "plt.show()"
      ]
    },
    {
      "cell_type": "code",
      "execution_count": 18,
      "metadata": {
        "colab": {
          "base_uri": "https://localhost:8080/",
          "height": 675
        },
        "id": "X1NHOONp6NQ-",
        "outputId": "03437b0a-206f-46fd-a3bb-649a9c6c8412"
      },
      "outputs": [
        {
          "data": {
            "image/png": "[encoded data removed]",
            "text/plain": [
              "<Figure size 800x800 with 1 Axes>"
            ]
          },
          "metadata": {},
          "output_type": "display_data"
        }
      ],
      "source": [
        "# Analyze the frequency of each fuel type\n",
        "fuel_type_counts = df['Fuel Type'].value_counts()\n",
        "\n",
        "# Create the pie chart\n",
        "plt.figure(figsize=(8, 8))\n",
        "plt.pie(fuel_type_counts, labels=fuel_type_counts.index, autopct='%1.1f%%', startangle=140)\n",
        "plt.title('Distribution of Car Listings by Fuel Type')\n",
        "plt.axis('equal')\n",
        "plt.show()"
      ]
    },
    {
      "cell_type": "code",
      "execution_count": 19,
      "metadata": {
        "colab": {
          "base_uri": "https://localhost:8080/",
          "height": 636
        },
        "id": "FIqq4DMl68wC",
        "outputId": "650cb8b0-b84a-4e69-d93d-17ee77050afe"
      },
      "outputs": [
        {
          "data": {
            "image/png": "[encoded data removed]",
            "text/plain": [
              "<Figure size 1000x600 with 1 Axes>"
            ]
          },
          "metadata": {},
          "output_type": "display_data"
        },
        {
          "name": "stdout",
          "output_type": "stream",
          "text": [
            "\n",
            "Correlation between Kilometers Driven and Price: -0.23\n",
            "There is a negative correlation between kilometers driven and price, suggesting that cars with more kilometers driven tend to have a lower price.\n"
          ]
        }
      ],
      "source": [
        "# Scatter plot to visualize the relationship between kilometers driven and price\n",
        "plt.figure(figsize=(10, 6))\n",
        "plt.scatter(df['km_driven_clean'], df['Price_Clean'], alpha=0.5)\n",
        "plt.title('Relationship between Kilometers Driven and Price')\n",
        "plt.xlabel('Kilometers Driven')\n",
        "plt.ylabel('Price (₹)')\n",
        "plt.grid(True)\n",
        "plt.show()\n",
        "\n",
        "# Calculate the correlation coefficient\n",
        "correlation = df['km_driven_clean'].corr(df['Price_Clean'])\n",
        "print(f\"\\nCorrelation between Kilometers Driven and Price: {correlation:.2f}\")\n",
        "\n",
        "# Interpretation\n",
        "if correlation < 0:\n",
        "    print(\"There is a negative correlation between kilometers driven and price, suggesting that cars with more kilometers driven tend to have a lower price.\")\n",
        "elif correlation > 0:\n",
        "    print(\"There is a positive correlation between kilometers driven and price, suggesting that cars with more kilometers driven tend to have a higher price.\")\n",
        "else:\n",
        "    print(\"There is no significant correlation between kilometers driven and price.\")"
      ]
    },
    {
      "cell_type": "code",
      "execution_count": 20,
      "metadata": {
        "colab": {
          "base_uri": "https://localhost:8080/",
          "height": 675
        },
        "id": "wU1MIKb-7t3t",
        "outputId": "e3e151e1-8d41-4bff-9b2a-38b5b4a45c20"
      },
      "outputs": [
        {
          "data": {
            "image/png": "[encoded data removed]",
            "text/plain": [
              "<Figure size 800x800 with 1 Axes>"
            ]
          },
          "metadata": {},
          "output_type": "display_data"
        }
      ],
      "source": [
        "# Analyze the frequency of each transmission type\n",
        "transmission_counts = df['Transmission'].value_counts()\n",
        "\n",
        "# Create the pie chart\n",
        "plt.figure(figsize=(8, 8))\n",
        "plt.pie(transmission_counts, labels=transmission_counts.index, autopct='%1.1f%%', startangle=140)\n",
        "plt.title('Distribution of Car Listings by Transmission Type')\n",
        "plt.axis('equal')\n",
        "plt.show()"
      ]
    },
    {
      "cell_type": "code",
      "execution_count": 21,
      "metadata": {
        "colab": {
          "base_uri": "https://localhost:8080/",
          "height": 763
        },
        "id": "fpn1e7LG7Xc9",
        "outputId": "9822e4f1-cc9f-4b92-9916-eed74be3299b"
      },
      "outputs": [
        {
          "name": "stdout",
          "output_type": "stream",
          "text": [
            "\n",
            "Average Price by Transmission Type:\n",
            "Transmission\n",
            "Auto      645333.333333\n",
            "Manual    499500.000000\n",
            "Name: Price_Clean, dtype: float64\n",
            "\n",
            "Based on the scraped data:\n",
            "Automatic cars appear to be more expensive on average than manual cars in this dataset of used cars.\n"
          ]
        },
        {
          "data": {
            "image/png": "[encoded data removed]",
            "text/plain": [
              "<Figure size 800x600 with 1 Axes>"
            ]
          },
          "metadata": {},
          "output_type": "display_data"
        }
      ],
      "source": [
        "# Calculate the average price for each transmission type\n",
        "average_price_by_transmission = df.groupby('Transmission')['Price_Clean'].mean().sort_values(ascending=False)\n",
        "\n",
        "print(\"\\nAverage Price by Transmission Type:\")\n",
        "print(average_price_by_transmission)\n",
        "\n",
        "# Conclusion based on the data\n",
        "print(\"\\nBased on the scraped data:\")\n",
        "if average_price_by_transmission.get('Auto', 0) > average_price_by_transmission.get('Manual', 0):\n",
        "    print(\"Automatic cars appear to be more expensive on average than manual cars in this dataset of used cars.\")\n",
        "elif average_price_by_transmission.get('Auto', 0) < average_price_by_transmission.get('Manual', 0):\n",
        "    print(\"Manual cars appear to be more expensive on average than automatic cars in this dataset of used cars.\")\n",
        "else:\n",
        "    print(\"The average price between automatic and manual cars is similar in this dataset of used cars.\")\n",
        "\n",
        "# Optional: Plot a bar chart for average price by transmission\n",
        "plt.figure(figsize=(8, 6))\n",
        "average_price_by_transmission.plot(kind='bar')\n",
        "plt.title('Average Price by Transmission Type')\n",
        "plt.xlabel('Transmission Type')\n",
        "plt.ylabel('Average Price (₹)')\n",
        "plt.xticks(rotation=0)\n",
        "plt.tight_layout()\n",
        "plt.show()"
      ]
    },
    {
      "cell_type": "code",
      "execution_count": 22,
      "metadata": {},
      "outputs": [
        {
          "name": "stdout",
          "output_type": "stream",
          "text": [
            "Price Range:\n",
            "Minimum Price: ₹192,000.00\n",
            "Maximum Price: ₹1,255,000.00\n"
          ]
        }
      ],
      "source": [
        "min_price = df['Price_Clean'].min()\n",
        "max_price = df['Price_Clean'].max()\n",
        "\n",
        "print(f\"Price Range:\")\n",
        "print(f\"Minimum Price: ₹{min_price:,.2f}\")\n",
        "print(f\"Maximum Price: ₹{max_price:,.2f}\")"
      ]
    }
  ],
  "metadata": {
    "colab": {
      "provenance": []
    },
    "kernelspec": {
      "display_name": "Python 3",
      "name": "python3"
    },
    "language_info": {
      "codemirror_mode": {
        "name": "ipython",
        "version": 3
      },
      "file_extension": ".py",
      "mimetype": "text/x-python",
      "name": "python",
      "nbconvert_exporter": "python",
      "pygments_lexer": "ipython3",
      "version": "3.11.9"
    }
  },
  "nbformat": 4,
  "nbformat_minor": 0
}
